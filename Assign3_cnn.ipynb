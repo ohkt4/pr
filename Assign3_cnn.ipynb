{
  "cells": [
    {
      "cell_type": "markdown",
      "metadata": {
        "id": "view-in-github",
        "colab_type": "text"
      },
      "source": [
        "<a href=\"https://colab.research.google.com/github/ohkt4/pr/blob/main/Assign3_cnn.ipynb\" target=\"_parent\"><img src=\"https://colab.research.google.com/assets/colab-badge.svg\" alt=\"Open In Colab\"/></a>"
      ]
    },
    {
      "cell_type": "code",
      "execution_count": null,
      "metadata": {
        "id": "5OwiM3um84-9"
      },
      "outputs": [],
      "source": [
        "import tensorflow as tf\n",
        "from tensorflow.keras import datasets,layers,models\n",
        "import matplotlib.pyplot as plt"
      ]
    },
    {
      "cell_type": "code",
      "execution_count": null,
      "metadata": {
        "id": "8_bYUNBz9OZj"
      },
      "outputs": [],
      "source": [
        "\n",
        "\n",
        "((train_images,train_labels),(test_images,test_labels)) = datasets.cifar10.load_data()\n",
        "\n",
        "train_images,test_images = train_images/255.0,test_images/255.0"
      ]
    },
    {
      "cell_type": "code",
      "execution_count": null,
      "metadata": {
        "colab": {
          "base_uri": "https://localhost:8080/",
          "height": 189
        },
        "id": "vj4MjEE5-LSe",
        "outputId": "7cdae642-9d99-4fa8-8ee7-2a9f275512ea"
      },
      "outputs": [
        {
          "data": {
            "image/png": "[encoded data removed]",
            "text/plain": [
              "<Figure size 1000x1000 with 5 Axes>"
            ]
          },
          "metadata": {},
          "output_type": "display_data"
        }
      ],
      "source": [
        "class_names=['airplane','automobile','bird','cat','deer','dog','frog','horse','ship','truck']\n",
        "\n",
        "plt.figure(figsize=(10,10))\n",
        "for i in range(5):\n",
        "  plt.subplot(5,5,i+1)\n",
        "  plt.xticks([])\n",
        "  plt.yticks([])\n",
        "  plt.grid(False)\n",
        "  plt.imshow(train_images[i])\n",
        "  plt.xlabel(class_names[train_labels[i][0]])\n",
        "\n",
        "plt.show()"
      ]
    },
    {
      "cell_type": "code",
      "execution_count": null,
      "metadata": {
        "id": "aAtooaTN-cDr"
      },
      "outputs": [],
      "source": [
        "model = models.Sequential()\n",
        "model.add(layers.Conv2D(32,(3,3),activation = 'relu', input_shape=(32,32,3)))\n",
        "model.add(layers.MaxPool2D(2,2))\n",
        "model.add(layers.Conv2D(64,(3,3),activation = 'relu'))\n",
        "model.add(layers.MaxPool2D(2,2))\n",
        "model.add(layers.Conv2D(64,(3,3),activation = 'relu'))"
      ]
    },
    {
      "cell_type": "code",
      "execution_count": null,
      "metadata": {
        "colab": {
          "base_uri": "https://localhost:8080/"
        },
        "id": "qEEjnYqdAauN",
        "outputId": "d2bd481a-8e19-4fee-e951-c7acad964471"
      },
      "outputs": [
        {
          "name": "stdout",
          "output_type": "stream",
          "text": [
            "Model: \"sequential\"\n",
            "_________________________________________________________________\n",
            " Layer (type)                Output Shape              Param #   \n",
            "=================================================================\n",
            " conv2d (Conv2D)             (None, 30, 30, 32)        896       \n",
            "                                                                 \n",
            " max_pooling2d (MaxPooling2  (None, 15, 15, 32)        0         \n",
            " D)                                                              \n",
            "                                                                 \n",
            " conv2d_1 (Conv2D)           (None, 13, 13, 64)        18496     \n",
            "                                                                 \n",
            " max_pooling2d_1 (MaxPoolin  (None, 6, 6, 64)          0         \n",
            " g2D)                                                            \n",
            "                                                                 \n",
            " conv2d_2 (Conv2D)           (None, 4, 4, 64)          36928     \n",
            "                                                                 \n",
            "=================================================================\n",
            "Total params: 56320 (220.00 KB)\n",
            "Trainable params: 56320 (220.00 KB)\n",
            "Non-trainable params: 0 (0.00 Byte)\n",
            "_________________________________________________________________\n"
          ]
        }
      ],
      "source": [
        "model.summary()"
      ]
    },
    {
      "cell_type": "code",
      "execution_count": null,
      "metadata": {
        "id": "PQxxA11nBTPY"
      },
      "outputs": [],
      "source": [
        "model.add(layers.Flatten())\n",
        "model.add(layers.Dense(64,activation=\"relu\"))\n",
        "model.add(layers.Dense(10))"
      ]
    },
    {
      "cell_type": "code",
      "execution_count": null,
      "metadata": {
        "colab": {
          "base_uri": "https://localhost:8080/"
        },
        "id": "pfZb_f_wBmwm",
        "outputId": "813b22b4-ebe5-4fb5-f24d-9979046528eb"
      },
      "outputs": [
        {
          "name": "stdout",
          "output_type": "stream",
          "text": [
            "Model: \"sequential\"\n",
            "_________________________________________________________________\n",
            " Layer (type)                Output Shape              Param #   \n",
            "=================================================================\n",
            " conv2d (Conv2D)             (None, 30, 30, 32)        896       \n",
            "                                                                 \n",
            " max_pooling2d (MaxPooling2  (None, 15, 15, 32)        0         \n",
            " D)                                                              \n",
            "                                                                 \n",
            " conv2d_1 (Conv2D)           (None, 13, 13, 64)        18496     \n",
            "                                                                 \n",
            " max_pooling2d_1 (MaxPoolin  (None, 6, 6, 64)          0         \n",
            " g2D)                                                            \n",
            "                                                                 \n",
            " conv2d_2 (Conv2D)           (None, 4, 4, 64)          36928     \n",
            "                                                                 \n",
            " flatten (Flatten)           (None, 1024)              0         \n",
            "                                                                 \n",
            " dense (Dense)               (None, 64)                65600     \n",
            "                                                                 \n",
            " dense_1 (Dense)             (None, 10)                650       \n",
            "                                                                 \n",
            "=================================================================\n",
            "Total params: 122570 (478.79 KB)\n",
            "Trainable params: 122570 (478.79 KB)\n",
            "Non-trainable params: 0 (0.00 Byte)\n",
            "_________________________________________________________________\n"
          ]
        }
      ],
      "source": [
        "model.summary()"
      ]
    },
    {
      "cell_type": "code",
      "execution_count": null,
      "metadata": {
        "colab": {
          "background_save": true,
          "base_uri": "https://localhost:8080/"
        },
        "id": "fuA6XzAmBpLC",
        "outputId": "4996f34c-c383-4bed-e942-4ba12a4f8ca3"
      },
      "outputs": [
        {
          "name": "stdout",
          "output_type": "stream",
          "text": [
            "Epoch 1/50\n",
            "1563/1563 [==============================] - 122s 77ms/step - loss: 1.5374 - accuracy: 0.4426 - val_loss: 1.2772 - val_accuracy: 0.5441\n",
            "Epoch 2/50\n",
            "1563/1563 [==============================] - 89s 57ms/step - loss: 1.1503 - accuracy: 0.5938 - val_loss: 1.0717 - val_accuracy: 0.6221\n",
            "Epoch 3/50\n",
            "1563/1563 [==============================] - 77s 49ms/step - loss: 1.0012 - accuracy: 0.6490 - val_loss: 0.9833 - val_accuracy: 0.6553\n",
            "Epoch 4/50\n",
            "1563/1563 [==============================] - 76s 48ms/step - loss: 0.8951 - accuracy: 0.6873 - val_loss: 0.9630 - val_accuracy: 0.6680\n",
            "Epoch 5/50\n",
            "1563/1563 [==============================] - 68s 44ms/step - loss: 0.8266 - accuracy: 0.7103 - val_loss: 0.9106 - val_accuracy: 0.6870\n",
            "Epoch 6/50\n",
            "1563/1563 [==============================] - 69s 44ms/step - loss: 0.7713 - accuracy: 0.7293 - val_loss: 0.9038 - val_accuracy: 0.6888\n",
            "Epoch 7/50\n",
            "1563/1563 [==============================] - 65s 42ms/step - loss: 0.7230 - accuracy: 0.7455 - val_loss: 0.8735 - val_accuracy: 0.7046\n",
            "Epoch 8/50\n",
            "1563/1563 [==============================] - 69s 44ms/step - loss: 0.6853 - accuracy: 0.7596 - val_loss: 0.8760 - val_accuracy: 0.7076\n",
            "Epoch 9/50\n",
            "1563/1563 [==============================] - 66s 42ms/step - loss: 0.6461 - accuracy: 0.7741 - val_loss: 0.9072 - val_accuracy: 0.6973\n",
            "Epoch 10/50\n",
            "1563/1563 [==============================] - 64s 41ms/step - loss: 0.6071 - accuracy: 0.7849 - val_loss: 0.8975 - val_accuracy: 0.7018\n",
            "Epoch 11/50\n",
            "1563/1563 [==============================] - 65s 41ms/step - loss: 0.5826 - accuracy: 0.7934 - val_loss: 0.8878 - val_accuracy: 0.7118\n",
            "Epoch 12/50\n",
            "1563/1563 [==============================] - 65s 42ms/step - loss: 0.5494 - accuracy: 0.8057 - val_loss: 0.9032 - val_accuracy: 0.7075\n",
            "Epoch 13/50\n",
            "1563/1563 [==============================] - 64s 41ms/step - loss: 0.5224 - accuracy: 0.8142 - val_loss: 0.9341 - val_accuracy: 0.7091\n",
            "Epoch 14/50\n",
            "1563/1563 [==============================] - 67s 43ms/step - loss: 0.4970 - accuracy: 0.8248 - val_loss: 0.9306 - val_accuracy: 0.7077\n",
            "Epoch 15/50\n",
            "1563/1563 [==============================] - 66s 42ms/step - loss: 0.4700 - accuracy: 0.8321 - val_loss: 0.9756 - val_accuracy: 0.7079\n",
            "Epoch 16/50\n",
            "1563/1563 [==============================] - 64s 41ms/step - loss: 0.4498 - accuracy: 0.8402 - val_loss: 0.9985 - val_accuracy: 0.7049\n",
            "Epoch 17/50\n",
            "1563/1563 [==============================] - 66s 42ms/step - loss: 0.4247 - accuracy: 0.8472 - val_loss: 1.0160 - val_accuracy: 0.7049\n",
            "Epoch 18/50\n",
            "1563/1563 [==============================] - 68s 44ms/step - loss: 0.3994 - accuracy: 0.8563 - val_loss: 1.0703 - val_accuracy: 0.7097\n",
            "Epoch 19/50\n",
            "1563/1563 [==============================] - 73s 47ms/step - loss: 0.3813 - accuracy: 0.8640 - val_loss: 1.0752 - val_accuracy: 0.7026\n",
            "Epoch 20/50\n",
            "1563/1563 [==============================] - 71s 45ms/step - loss: 0.3631 - accuracy: 0.8705 - val_loss: 1.1136 - val_accuracy: 0.7038\n",
            "Epoch 21/50\n",
            "1563/1563 [==============================] - 66s 42ms/step - loss: 0.3468 - accuracy: 0.8763 - val_loss: 1.1797 - val_accuracy: 0.6959\n",
            "Epoch 22/50\n",
            "1563/1563 [==============================] - 64s 41ms/step - loss: 0.3310 - accuracy: 0.8808 - val_loss: 1.1789 - val_accuracy: 0.6985\n",
            "Epoch 23/50\n",
            "1563/1563 [==============================] - 66s 42ms/step - loss: 0.3101 - accuracy: 0.8883 - val_loss: 1.2791 - val_accuracy: 0.6909\n",
            "Epoch 24/50\n",
            "1563/1563 [==============================] - 64s 41ms/step - loss: 0.3013 - accuracy: 0.8913 - val_loss: 1.3163 - val_accuracy: 0.6990\n",
            "Epoch 25/50\n",
            "1563/1563 [==============================] - 65s 42ms/step - loss: 0.2848 - accuracy: 0.8973 - val_loss: 1.3155 - val_accuracy: 0.6931\n",
            "Epoch 26/50\n",
            " 901/1563 [================>.............] - ETA: 25s - loss: 0.2586 - accuracy: 0.9047"
          ]
        }
      ],
      "source": [
        "model.compile(optimizer='adam',\n",
        "              loss = tf.keras.losses.SparseCategoricalCrossentropy(from_logits=True),\n",
        "              metrics = ['accuracy'])\n",
        "history = model.fit(train_images,train_labels, epochs = 50,\n",
        "                    validation_data = (test_images,test_labels))"
      ]
    },
    {
      "cell_type": "code",
      "execution_count": null,
      "metadata": {
        "id": "Eb2EPjfWCzvv",
        "colab": {
          "base_uri": "https://localhost:8080/",
          "height": 245
        },
        "outputId": "2115176f-a92b-4e8e-ba1f-2ce515fe470e"
      },
      "outputs": [
        {
          "output_type": "error",
          "ename": "NameError",
          "evalue": "ignored",
          "traceback": [
            "\u001b[0;31m---------------------------------------------------------------------------\u001b[0m",
            "\u001b[0;31mNameError\u001b[0m                                 Traceback (most recent call last)",
            "\u001b[0;32m<ipython-input-1-d5f155326cf5>\u001b[0m in \u001b[0;36m<cell line: 1>\u001b[0;34m()\u001b[0m\n\u001b[0;32m----> 1\u001b[0;31m \u001b[0mplt\u001b[0m\u001b[0;34m.\u001b[0m\u001b[0mplot\u001b[0m\u001b[0;34m(\u001b[0m\u001b[0mhistory\u001b[0m\u001b[0;34m.\u001b[0m\u001b[0mhistory\u001b[0m\u001b[0;34m[\u001b[0m\u001b[0;34m\"accuracy\"\u001b[0m\u001b[0;34m]\u001b[0m\u001b[0;34m,\u001b[0m\u001b[0mlabel\u001b[0m \u001b[0;34m=\u001b[0m \u001b[0;34m\"accuracy\"\u001b[0m\u001b[0;34m)\u001b[0m\u001b[0;34m\u001b[0m\u001b[0;34m\u001b[0m\u001b[0m\n\u001b[0m\u001b[1;32m      2\u001b[0m \u001b[0mplt\u001b[0m\u001b[0;34m.\u001b[0m\u001b[0mplot\u001b[0m\u001b[0;34m(\u001b[0m\u001b[0mhistory\u001b[0m\u001b[0;34m.\u001b[0m\u001b[0mhistory\u001b[0m\u001b[0;34m[\u001b[0m\u001b[0;34m\"val_accuracy\"\u001b[0m\u001b[0;34m]\u001b[0m\u001b[0;34m,\u001b[0m\u001b[0mlabel\u001b[0m \u001b[0;34m=\u001b[0m \u001b[0;34m\"val_accuracy\"\u001b[0m\u001b[0;34m)\u001b[0m\u001b[0;34m\u001b[0m\u001b[0;34m\u001b[0m\u001b[0m\n\u001b[1;32m      3\u001b[0m \u001b[0mplt\u001b[0m\u001b[0;34m.\u001b[0m\u001b[0mxlabel\u001b[0m\u001b[0;34m(\u001b[0m\u001b[0;34m\"Epochs\"\u001b[0m\u001b[0;34m)\u001b[0m\u001b[0;34m\u001b[0m\u001b[0;34m\u001b[0m\u001b[0m\n\u001b[1;32m      4\u001b[0m \u001b[0mplt\u001b[0m\u001b[0;34m.\u001b[0m\u001b[0mylabel\u001b[0m\u001b[0;34m(\u001b[0m\u001b[0;34m\"accuracy\"\u001b[0m\u001b[0;34m)\u001b[0m\u001b[0;34m\u001b[0m\u001b[0;34m\u001b[0m\u001b[0m\n\u001b[1;32m      5\u001b[0m \u001b[0mplt\u001b[0m\u001b[0;34m.\u001b[0m\u001b[0mylim\u001b[0m\u001b[0;34m(\u001b[0m\u001b[0;34m[\u001b[0m\u001b[0;36m0.5\u001b[0m\u001b[0;34m,\u001b[0m\u001b[0;36m1\u001b[0m\u001b[0;34m]\u001b[0m\u001b[0;34m)\u001b[0m\u001b[0;34m\u001b[0m\u001b[0;34m\u001b[0m\u001b[0m\n",
            "\u001b[0;31mNameError\u001b[0m: name 'plt' is not defined"
          ]
        }
      ],
      "source": [
        "plt.plot(history.history[\"accuracy\"],label = \"accuracy\")\n",
        "plt.plot(history.history[\"val_accuracy\"],label = \"val_accuracy\")\n",
        "plt.xlabel(\"Epochs\")\n",
        "plt.ylabel(\"accuracy\")\n",
        "plt.ylim([0.5,1])\n",
        "plt.legend(\"lower right\")"
      ]
    }
  ],
  "metadata": {
    "colab": {
      "provenance": [],
      "include_colab_link": true
    },
    "kernelspec": {
      "display_name": "Python 3",
      "name": "python3"
    },
    "language_info": {
      "name": "python"
    }
  },
  "nbformat": 4,
  "nbformat_minor": 0
}